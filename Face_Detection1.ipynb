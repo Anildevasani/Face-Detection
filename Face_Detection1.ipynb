{
  "nbformat": 4,
  "nbformat_minor": 0,
  "metadata": {
    "colab": {
      "provenance": []
    },
    "kernelspec": {
      "name": "python3",
      "display_name": "Python 3"
    },
    "language_info": {
      "name": "python"
    }
  },
  "cells": [
    {
      "cell_type": "markdown",
      "source": [
        "# Face Detection using openvc"
      ],
      "metadata": {
        "id": "wOIOhG3Sjoq6"
      }
    },
    {
      "cell_type": "code",
      "source": [
        "import cv2"
      ],
      "metadata": {
        "id": "dGiBZgrHkAvK"
      },
      "execution_count": null,
      "outputs": []
    },
    {
      "cell_type": "markdown",
      "source": [
        "Using the pre-trained classifier from openCV"
      ],
      "metadata": {
        "id": "arvL270RkLsC"
      }
    },
    {
      "cell_type": "code",
      "source": [
        "face_classifier=cv2.CascadeClassifier(\"haarcascade_frontalface_default.xml\")   #load cascade"
      ],
      "metadata": {
        "id": "j3JHh0l8kW0h"
      },
      "execution_count": null,
      "outputs": []
    },
    {
      "cell_type": "markdown",
      "source": [
        "Upload the image"
      ],
      "metadata": {
        "id": "hgFnyEVLkhuY"
      }
    },
    {
      "cell_type": "code",
      "source": [
        "img=cv2.imread(\"p2.jpeg\")    #read the input image"
      ],
      "metadata": {
        "id": "Bc2GM--hkkyy"
      },
      "execution_count": null,
      "outputs": []
    },
    {
      "cell_type": "markdown",
      "source": [
        "Perform face detection"
      ],
      "metadata": {
        "id": "Ir3y72VslL_h"
      }
    },
    {
      "cell_type": "code",
      "source": [
        "faces=face_classifier.detectMultiScale(img,1.1,4)   #detect faces"
      ],
      "metadata": {
        "id": "P8wOoEcMlSTW"
      },
      "execution_count": null,
      "outputs": []
    },
    {
      "cell_type": "markdown",
      "source": [
        "Drawing rectangle around the faces"
      ],
      "metadata": {
        "id": "gqo14kJGlgKz"
      }
    },
    {
      "cell_type": "code",
      "source": [
        "for (x,y,w,h) in faces:\n",
        "  cv2.rectangle(img,(x,y),(x+w,y+h),(255,0,0),2)"
      ],
      "metadata": {
        "id": "L53IrqY4lnw2"
      },
      "execution_count": null,
      "outputs": []
    },
    {
      "cell_type": "markdown",
      "source": [
        "Exporting the image file"
      ],
      "metadata": {
        "id": "0mf13hMzky-G"
      }
    },
    {
      "cell_type": "code",
      "source": [
        "cv2.imwrite(\"face_detected2.jpg\",img)\n",
        "print(\"photo successfully exported!!\")"
      ],
      "metadata": {
        "colab": {
          "base_uri": "https://localhost:8080/"
        },
        "id": "8b_KjM_Nk2gs",
        "outputId": "f2e6002f-65a9-4aa0-a867-4bbbf53804f5"
      },
      "execution_count": null,
      "outputs": [
        {
          "output_type": "stream",
          "name": "stdout",
          "text": [
            "photo successfully exported!!\n"
          ]
        }
      ]
    }
  ]
}